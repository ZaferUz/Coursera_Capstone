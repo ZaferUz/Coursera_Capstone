{
 "cells": [
  {
   "cell_type": "markdown",
   "metadata": {},
   "source": [
    "# Capstone Project- The Battle of Neighborhoods"
   ]
  },
  {
   "cell_type": "markdown",
   "metadata": {},
   "source": [
    "### __@Zafer Uzun__"
   ]
  },
  {
   "cell_type": "markdown",
   "metadata": {},
   "source": [
    "### Introduction"
   ]
  },
  {
   "cell_type": "markdown",
   "metadata": {},
   "source": [
    "- One of the important points for establishing a new business is the location of the workplace.For example, a crowded population can provide the best chance experiences such as social gatherings, entertainment, performances, festivals, and tourists to earn money. And all the things provided can help your business. So we have to chose the right place.\n",
    "\n"
   ]
  },
  {
   "cell_type": "markdown",
   "metadata": {},
   "source": [
    "### Businees Problem"
   ]
  },
  {
   "cell_type": "markdown",
   "metadata": {},
   "source": [
    "- The objective of this capstone project is to analyze and select the best locations in the city of Rome, Italy to open a new __pizza restaurant__. Using data science methodology and machine learning techniques like clustering, this project aims to provide solutions to answer the business question: In the city of Rome , Italy, if a property developer is looking to open a new pizza restaurant, where would you recommend that they open it?"
   ]
  },
  {
   "cell_type": "markdown",
   "metadata": {},
   "source": [
    "to be countinue :)"
   ]
  },
  {
   "cell_type": "markdown",
   "metadata": {},
   "source": [
    "### Data"
   ]
  },
  {
   "cell_type": "markdown",
   "metadata": {},
   "source": [
    "\n",
    "- In this section we will use Wikipedia page \"https://en.wikipedia.org/wiki/Category:Subdivisions_of_Rome\",  contains a list of neighborhoods in Rome from Italy\n",
    "\n",
    "- And we will use the Latitude and longitude coordinates of those neighborhoods to explore the city.\n",
    "\n",
    "- We will use Python Geocoder package to to examine the coordinates of the neighborhoods in the city.\n",
    "\n",
    "- Venue data, particularly data related to restaurants.\n",
    "\n",
    "- To get the venue data for those neighborhoods we will use Foursquare API ( https://foursquare.com/ com/)"
   ]
  },
  {
   "cell_type": "code",
   "execution_count": null,
   "metadata": {},
   "outputs": [],
   "source": []
  }
 ],
 "metadata": {
  "kernelspec": {
   "display_name": "Python 3",
   "language": "python",
   "name": "python3"
  },
  "language_info": {
   "codemirror_mode": {
    "name": "ipython",
    "version": 3
   },
   "file_extension": ".py",
   "mimetype": "text/x-python",
   "name": "python",
   "nbconvert_exporter": "python",
   "pygments_lexer": "ipython3",
   "version": "3.7.9"
  }
 },
 "nbformat": 4,
 "nbformat_minor": 4
}
